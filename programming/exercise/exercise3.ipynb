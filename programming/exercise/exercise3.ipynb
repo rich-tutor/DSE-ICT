{
 "cells": [
  {
   "cell_type": "markdown",
   "metadata": {},
   "source": [
    "<h1 style=\"text-align: center;\">\n",
    "Hello, little turtles! <br>\n",
    "Homework 1</h1>"
   ]
  },
  {
   "cell_type": "markdown",
   "metadata": {},
   "source": [
    "1. Write a program that prints `We like Python's turtles!` 1000 times.\n",
    "\n"
   ]
  },
  {
   "cell_type": "markdown",
   "metadata": {},
   "source": [
    "2. Give three attributes of your cellphone object. Give three methods of your cellphone.\n"
   ]
  },
  {
   "cell_type": "markdown",
   "metadata": {},
   "source": [
    "3. Write a program that uses a for loop to print\n",
    "\n",
    "    `One of the months of the year is January`\n",
    "\n",
    "    `One of the months of the year is February`\n",
    "\n",
    "    ...\n"
   ]
  },
  {
   "cell_type": "markdown",
   "metadata": {},
   "source": [
    "4. Suppose our turtle tess is at heading 0 — facing east. We execute the statement tess.left(3645). What does tess do, and what is her final heading?\n"
   ]
  },
  {
   "cell_type": "markdown",
   "metadata": {},
   "source": [
    "5. Assume you have the assignment xs = [12, 10, 32, 3, 66, 17, 42, 99, 20]\n",
    "\n",
    "    a. Write a loop that prints each of the numbers on a new line.\n",
    "\n",
    "    b. Write a loop that prints each number and its square on a new line.\n",
    "\n",
    "    c. Write a loop that adds all the numbers from the list into a variable called total. You should set the total variable to have the value 0 before you start adding them up, and print the value in total after the loop has completed.\n",
    "\n",
    "    d. Print the product of all the numbers in the list. (product means all multiplied together)\n"
   ]
  },
  {
   "cell_type": "markdown",
   "metadata": {},
   "source": [
    "6. Use `for` loops to make a turtle draw these regular polygons (regular means all sides the same lengths, all angles the same):\n",
    "\n",
    "    - An equilateral triangle\n",
    "    - A square\n",
    "    - A hexagon (six sides)\n",
    "    - An octagon (eight sides)\n"
   ]
  },
  {
   "cell_type": "markdown",
   "metadata": {},
   "source": [
    "\n",
    "\n",
    "7. A drunk pirate makes a random turn and then takes 100 steps forward, makes another random turn, takes another 100 steps, turns another random amount, etc. A social science student records the angle of each turn before the next 100 steps are taken. Her experimental data is [160, -43, 270, -97, -43, 200, -940, 17, -86]. (Positive angles are counter-clockwise.) Use a turtle to draw the path taken by our drunk friend.\n"
   ]
  },
  {
   "cell_type": "markdown",
   "metadata": {},
   "source": [
    "\n",
    "8. Enhance your program above to also tell us what the drunk pirate’s heading is after he has finished stumbling around. (Assume he begins at heading 0).\n",
    "\n",
    "\n"
   ]
  },
  {
   "cell_type": "markdown",
   "metadata": {},
   "source": [
    "9. If you were going to draw a regular polygon with 18 sides, what angle would you need to turn the turtle at each corner?\n"
   ]
  },
  {
   "cell_type": "markdown",
   "metadata": {},
   "source": [
    "10. At the interactive prompt, anticipate what each of the following lines will do, and then record what happens. Score yourself, giving yourself one point for each one you anticipate correctly:\n",
    "\n",
    "    ``` python\n",
    "    >>> import turtle\n",
    "    >>> wn = turtle.Screen()\n",
    "    >>> tess = turtle.Turtle()\n",
    "    >>> tess.right(90)\n",
    "    >>> tess.left(3600)\n",
    "    >>> tess.right(-90)\n",
    "    >>> tess.speed(10)\n",
    "    >>> tess.left(3600)\n",
    "    >>> tess.speed(0)\n",
    "    >>> tess.left(3645)\n",
    "    >>> tess.forward(-100)\n",
    "    ```\n"
   ]
  },
  {
   "attachments": {
    "image.png": {
     "image/png": "[encoded data removed]"
    }
   },
   "cell_type": "markdown",
   "metadata": {},
   "source": [
    "11. Write a program to draw a shape like this:\n",
    "\n",
    "    ![image.png](attachment:image.png)\n",
    "\n",
    "Hints:\n",
    "- Try this on a piece of paper, moving and turning your cellphone as if it was a turtle. Watch how many complete rotations your cellphone makes before you complete the star. Since each full rotation is 360 degrees, you can figure out the total number of degrees that your phone was rotated through. If you divide that by 5, because there are five points to the star, you’ll know how many degrees to turn the turtle at each point.\n",
    "- You can hide a turtle behind its invisibility cloak if you don’t want it shown. It will still draw its lines if its pen is down. The method is invoked as tess.hideturtle() . To make the turtle visible again, use tess.showturtle() .\n"
   ]
  },
  {
   "attachments": {
    "image.png": {
     "image/png": "[encoded data removed]"
    }
   },
   "cell_type": "markdown",
   "metadata": {},
   "source": [
    "12. Write a program to draw a face of a clock that looks something like this:\n",
    "\n",
    "    ![image.png](attachment:image.png)"
   ]
  },
  {
   "cell_type": "markdown",
   "metadata": {},
   "source": [
    "13. Create a turtle, and assign it to a variable. When you ask for its type, what do you get?\n"
   ]
  },
  {
   "cell_type": "markdown",
   "metadata": {},
   "source": [
    "\n",
    "14. What is the collective noun for turtles? (Hint: they don’t come in herds.)\n"
   ]
  },
  {
   "cell_type": "markdown",
   "metadata": {},
   "source": [
    "\n",
    "15. What the collective noun for pythons? Is a python a viper? Is a python venomous?"
   ]
  },
  {
   "cell_type": "markdown",
   "metadata": {},
   "source": []
  },
  {
   "cell_type": "markdown",
   "metadata": {},
   "source": []
  }
 ],
 "metadata": {
  "language_info": {
   "name": "python"
  }
 },
 "nbformat": 4,
 "nbformat_minor": 2
}
