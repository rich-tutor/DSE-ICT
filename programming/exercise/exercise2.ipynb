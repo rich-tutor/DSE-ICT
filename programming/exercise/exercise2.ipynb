{
 "cells": [
  {
   "cell_type": "markdown",
   "metadata": {},
   "source": [
    "<h1 style=\"text-align: center;\">\n",
    "Variables, expressions and statements <br>\n",
    "Homework 1</h1>"
   ]
  },
  {
   "cell_type": "markdown",
   "metadata": {},
   "source": [
    "1.Take the sentence: All work and no play makes Jack a dull boy. Store each word in a separate variable, then print out the sentence on one line using print.\n"
   ]
  },
  {
   "cell_type": "markdown",
   "metadata": {},
   "source": [
    "2.Add parenthesis to the expression 6 * 1 - 2 to change its value from 4 to -6.\n"
   ]
  },
  {
   "cell_type": "markdown",
   "metadata": {},
   "source": [
    "\n",
    "3.Place a comment before a line of code that previously worked, and record what happens when you rerun the program.\n"
   ]
  },
  {
   "cell_type": "markdown",
   "metadata": {},
   "source": [
    "\n",
    "4.Start the Python interpreter and enter bruce + 4 at the prompt. This will give you an error:\n",
    "\n",
    "```python\n",
    "NameError: name 'bruce' is not defined\n",
    "```\n",
    "\n",
    "Assign a value to bruce so that bruce + 4 evaluates to 10.\n"
   ]
  },
  {
   "attachments": {
    "image.png": {
     "image/png": "[encoded data removed]"
    }
   },
   "cell_type": "markdown",
   "metadata": {},
   "source": [
    "\n",
    "5.The formula for computing the final amount if one is earning compound interest is given on Wikipedia as\n",
    "\n",
    "![image.png](attachment:image.png)\n",
    "\n",
    "where\n",
    "\n",
    "![image.png](attachment:image.png)\n",
    "\n",
    "Write a Python program that assigns the principal amount of $10000 to variable P, assign to n the value 12, and assign to r the interest rate of 8%. Then have the program prompt the user for the number of years t that the money will be compounded for. Calculate and print the final amount after t years.\n"
   ]
  },
  {
   "cell_type": "markdown",
   "metadata": {},
   "source": [
    "6.Evaluate the following numerical expressions in your head, then use the Python interpreter to check your results:\n",
    "\n",
    "``` python\n",
    ">>> 5 % 2\n",
    ">>> 9 % 5\n",
    ">>> 15 % 12\n",
    ">>> 12 % 15\n",
    ">>> 6 % 6\n",
    ">>> 0 % 7\n",
    ">>> 7 % 0\n",
    "```\n",
    "\n",
    "What happened with the last example? Why? If you were able to correctly anticipate the computer’s response in all but the last one, it is time to move on. If not, take time now to make up examples of your own. Explore the modulus operator until you are confident you understand how it works.\n"
   ]
  },
  {
   "cell_type": "markdown",
   "metadata": {},
   "source": [
    "7.You look at the clock and it is exactly 2pm. You set an alarm to go off in 51 hours. At what time does the alarm go off? (Hint: you could count on your fingers, but this is not what we’re after. If you are tempted to count on your fingers, change the 51 to 5100.)\n"
   ]
  },
  {
   "cell_type": "markdown",
   "metadata": {},
   "source": [
    "\n",
    "8.Write a Python program to solve the general version of the above problem. Ask the user for the time now (in hours), and ask for the number of hours to wait. Your program should output what the time will be on the clock when the alarm goes off."
   ]
  }
 ],
 "metadata": {
  "language_info": {
   "name": "python"
  }
 },
 "nbformat": 4,
 "nbformat_minor": 2
}
